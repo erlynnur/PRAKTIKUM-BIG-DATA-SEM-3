{
 "cells": [
  {
   "cell_type": "markdown",
   "id": "b1b7bc33-0ee4-481f-8e41-670b41545ec9",
   "metadata": {},
   "source": [
    "BASIC SQL OPERATIONS IN SPARK SQL"
   ]
  },
  {
   "cell_type": "raw",
   "id": "c401d551-4732-4599-b40c-ac44831c1c7a",
   "metadata": {},
   "source": [
    "Tugas 1: Ulangi pemahaman Anda tentang SQL dasar dengan menjalankan queries sederhana pada dataset di Spark SQL."
   ]
  },
  {
   "cell_type": "code",
   "execution_count": 7,
   "id": "9129e340-2f41-468f-b21f-77d9bb3429d2",
   "metadata": {},
   "outputs": [
    {
     "name": "stdout",
     "output_type": "stream",
     "text": [
      "+--------+---+------+------+------+\n",
      "|    Name|Age|Gender|Salary|DeptId|\n",
      "+--------+---+------+------+------+\n",
      "|   Erlyn| 19|     F|  5000|     1|\n",
      "|Abimanyu| 20|     M|  6300|     2|\n",
      "|   Bilyn| 28|     M| 11300|     1|\n",
      "|   Priyo| 25|     M|  2900|     2|\n",
      "|    oshy| 21|     F|  9900|     1|\n",
      "+--------+---+------+------+------+\n",
      "\n",
      "+--------+---+\n",
      "|    Name|Age|\n",
      "+--------+---+\n",
      "|   Erlyn| 19|\n",
      "|Abimanyu| 20|\n",
      "|   Bilyn| 28|\n",
      "|    oshy| 21|\n",
      "+--------+---+\n",
      "\n",
      "+---------+\n",
      "|AvgSalary|\n",
      "+---------+\n",
      "|   7080.0|\n",
      "+---------+\n",
      "\n"
     ]
    }
   ],
   "source": [
    "import findspark\n",
    "findspark.init()\n",
    "from pyspark.sql import SparkSession\n",
    "spark = SparkSession.builder.appName('tugas 1').getOrCreate()\n",
    "\n",
    "data = [ \n",
    "    ('Erlyn', 19, 'F', 5000, 1),\n",
    "    ('Abimanyu', 20, 'M', 6300, 2),\n",
    "    ('Bilyn', 28, 'M', 11300, 1),\n",
    "    ('Priyo', 25, 'M', 2900, 2),\n",
    "    ('oshy', 21, 'F', 9900, 1)\n",
    "]\n",
    "columns = ['Name', 'Age', 'Gender', 'Salary', 'DeptId']\n",
    "df = spark.createDataFrame(data, schema=columns)\n",
    "df.createOrReplaceTempView('employees')\n",
    "# Query dasar\n",
    "spark.sql('SELECT * FROM employees').show()\n",
    "spark.sql('SELECT Name, Age FROM employees WHERE Salary > 3000').show()\n",
    "spark.sql('SELECT AVG(Salary) as AvgSalary FROM employees').show()"
   ]
  },
  {
   "cell_type": "markdown",
   "id": "15212a5a-8846-4e17-84f1-a76c3c23fdc7",
   "metadata": {},
   "source": [
    "Advanced Queries for Data Analysis"
   ]
  },
  {
   "cell_type": "raw",
   "id": "215c601a-8f46-4391-9987-6b574a9f5962",
   "metadata": {},
   "source": [
    "Tugas 2 : membuat SQL query yang menghitung total gaji berdasarkan jenis kelamin dan usia"
   ]
  },
  {
   "cell_type": "code",
   "execution_count": 8,
   "id": "74dafa46-6e10-4cb5-b469-e8067981ebc4",
   "metadata": {},
   "outputs": [
    {
     "name": "stdout",
     "output_type": "stream",
     "text": [
      "+------+-----------+---+\n",
      "|Gender|TotalSalary|Age|\n",
      "+------+-----------+---+\n",
      "|     F|       5000| 19|\n",
      "|     M|       6300| 20|\n",
      "|     F|       9900| 21|\n",
      "|     M|       2900| 25|\n",
      "|     M|      11300| 28|\n",
      "+------+-----------+---+\n",
      "\n"
     ]
    },
    {
     "name": "stderr",
     "output_type": "stream",
     "text": [
      "                                                                                "
     ]
    }
   ],
   "source": [
    "spark.sql('''\n",
    "SELECT Gender, SUM(Salary) as TotalSalary, Age\n",
    "FROM employees\n",
    "GROUP BY Gender, Age\n",
    "ORDER BY Age\n",
    "''').show()"
   ]
  },
  {
   "cell_type": "raw",
   "id": "fd6c69e2-207d-4d36-9203-7b563b393afc",
   "metadata": {},
   "source": [
    "1. Cari rata-rata gaji per departemen"
   ]
  },
  {
   "cell_type": "code",
   "execution_count": 9,
   "id": "7f9f3697-5a95-4182-add5-a40a9fc8fd91",
   "metadata": {},
   "outputs": [
    {
     "name": "stdout",
     "output_type": "stream",
     "text": [
      "+------+-----------------+\n",
      "|DeptId|        AvgSalary|\n",
      "+------+-----------------+\n",
      "|     1|8733.333333333334|\n",
      "|     2|           4600.0|\n",
      "+------+-----------------+\n",
      "\n"
     ]
    }
   ],
   "source": [
    "spark.sql('''\n",
    "SELECT DeptId, AVG(Salary) as AvgSalary\n",
    "FROM employees\n",
    "GROUP BY DeptId\n",
    "ORDER BY DeptId\n",
    "''').show()"
   ]
  },
  {
   "cell_type": "raw",
   "id": "43c57ae6-f3fd-4f07-b10d-0cdb68c2950b",
   "metadata": {},
   "source": [
    "2. Temukan karyawan yang memiliki gaji di atas rata-rata untuk gender masing-masing"
   ]
  },
  {
   "cell_type": "code",
   "execution_count": 10,
   "id": "a950a743-b8a0-4efa-a709-80f89a5d1439",
   "metadata": {},
   "outputs": [
    {
     "name": "stdout",
     "output_type": "stream",
     "text": [
      "+-----+---+------+------+\n",
      "| Name|Age|Gender|Salary|\n",
      "+-----+---+------+------+\n",
      "|Bilyn| 28|     M| 11300|\n",
      "| oshy| 21|     F|  9900|\n",
      "+-----+---+------+------+\n",
      "\n"
     ]
    }
   ],
   "source": [
    "spark.sql('''\n",
    "SELECT Name, Age, Gender, Salary\n",
    "FROM employees\n",
    "WHERE Salary > (\n",
    "    SELECT AVG(Salary)\n",
    "    FROM employees e2\n",
    "    WHERE e2.Gender = employees.Gender\n",
    ")\n",
    "''').show()"
   ]
  },
  {
   "cell_type": "raw",
   "id": "db111b87-e99d-4716-b36e-776dfae2a87d",
   "metadata": {},
   "source": [
    "Buat ranking karyawan berdasarkan gaji dalam departemen mereka."
   ]
  },
  {
   "cell_type": "code",
   "execution_count": 11,
   "id": "3acbbffd-51a6-40a5-ae2b-e8112cd5b8b9",
   "metadata": {},
   "outputs": [
    {
     "name": "stdout",
     "output_type": "stream",
     "text": [
      "+--------+------+------+----+\n",
      "|    Name|DeptId|Salary|Rank|\n",
      "+--------+------+------+----+\n",
      "|   Bilyn|     1| 11300|   1|\n",
      "|    oshy|     1|  9900|   2|\n",
      "|   Erlyn|     1|  5000|   3|\n",
      "|Abimanyu|     2|  6300|   1|\n",
      "|   Priyo|     2|  2900|   2|\n",
      "+--------+------+------+----+\n",
      "\n"
     ]
    }
   ],
   "source": [
    "spark.sql('''\n",
    "SELECT Name, DeptId, Salary,\n",
    "       DENSE_RANK() OVER (PARTITION BY DeptId ORDER BY Salary DESC) AS Rank\n",
    "FROM employees\n",
    "ORDER BY DeptId, Rank\n",
    "''').show()"
   ]
  },
  {
   "cell_type": "markdown",
   "id": "83ce81ff-755f-4e42-abd4-f953126a204b",
   "metadata": {},
   "source": [
    "Penggunaan Window Functions dan Subqueries"
   ]
  },
  {
   "cell_type": "raw",
   "id": "e411b5eb-e499-4138-a9b2-aa86638975c8",
   "metadata": {},
   "source": [
    "Tugas 3: Terapkan window functions untuk menemukan top 3 karyawan dalam kelompok usia tertentu"
   ]
  },
  {
   "cell_type": "code",
   "execution_count": 12,
   "id": "243d41f9-e2e6-4a31-8930-d85ac113ddcb",
   "metadata": {},
   "outputs": [
    {
     "name": "stderr",
     "output_type": "stream",
     "text": [
      "[Stage 54:>                                                         (0 + 8) / 8]"
     ]
    },
    {
     "name": "stdout",
     "output_type": "stream",
     "text": [
      "+--------+---+------+---------+\n",
      "|    Name|Age|Salary|RankByAge|\n",
      "+--------+---+------+---------+\n",
      "|   Erlyn| 19|  5000|        1|\n",
      "|Abimanyu| 20|  6300|        1|\n",
      "|    oshy| 21|  9900|        1|\n",
      "|   Priyo| 25|  2900|        1|\n",
      "|   Bilyn| 28| 11300|        1|\n",
      "+--------+---+------+---------+\n",
      "\n"
     ]
    },
    {
     "name": "stderr",
     "output_type": "stream",
     "text": [
      "                                                                                "
     ]
    }
   ],
   "source": [
    "spark.sql('''\n",
    "SELECT Name, Age, Salary,ROW_NUMBER() OVER (PARTITION BY Age ORDER BY Salary DESC) AS RankByAge\n",
    "FROM employees\n",
    "''').show()\n"
   ]
  },
  {
   "cell_type": "markdown",
   "id": "421ac511-5a8c-4a0f-b99b-0d51152eb3cf",
   "metadata": {},
   "source": [
    "Advanced Spark SQL Queries"
   ]
  },
  {
   "cell_type": "raw",
   "id": "53aae5c5-3c2d-41b6-a0f0-2c4c94c9cc7c",
   "metadata": {},
   "source": [
    "Tugas 4: Demonstrasi penggunaan multi-level joins dan subqueries untuk analisis data yang mendalam"
   ]
  },
  {
   "cell_type": "code",
   "execution_count": 14,
   "id": "163ed306-8468-477a-bf88-b52c0759fe6c",
   "metadata": {},
   "outputs": [
    {
     "name": "stdout",
     "output_type": "stream",
     "text": [
      "+--------+---+---------+-----------+\n",
      "|    Name|Age| DeptName|ProjectName|\n",
      "+--------+---+---------+-----------+\n",
      "|    oshy| 21|       HR|  Project A|\n",
      "|   Bilyn| 28|       HR|  Project A|\n",
      "|   Erlyn| 19|       HR|  Project A|\n",
      "|   Priyo| 25|Marketing|  Project B|\n",
      "|Abimanyu| 20|Marketing|  Project B|\n",
      "+--------+---+---------+-----------+\n",
      "\n"
     ]
    }
   ],
   "source": [
    "from pyspark.sql import SparkSession\n",
    "\n",
    "# Membuat SparkSession\n",
    "spark = SparkSession.builder.appName('tugas 4').getOrCreate()\n",
    "\n",
    "# Data setup untuk tabel-tabel \n",
    "employees = spark.createDataFrame([\n",
    "    ('Erlyn', 19, 'F', 5000, 1),\n",
    "    ('Abimanyu', 20, 'M', 6300, 2),\n",
    "    ('Bilyn', 28, 'M', 11300, 1),\n",
    "    ('Priyo', 25, 'M', 2900, 2),\n",
    "    ('oshy', 21, 'F', 9900, 1)\n",
    "], ['Name', 'Age', 'Gender', 'Salary', 'DeptId'])\n",
    "departments = spark.createDataFrame([\n",
    "    (1, 'HR'),\n",
    "    (2, 'Marketing')\n",
    "], ['DeptId', 'DeptName'])\n",
    "projects = spark.createDataFrame([\n",
    "    (1, 'Project A'),\n",
    "    (2, 'Project B')\n",
    "], ['DeptId', 'ProjectName'])\n",
    "employees.createOrReplaceTempView('employees')\n",
    "departments.createOrReplaceTempView('departments')\n",
    "projects.createOrReplaceTempView('projects')\n",
    "# Query kompleks: JOIN antar tabel \n",
    "spark.sql('''\n",
    "SELECT e.Name, e.Age, d.DeptName, p.ProjectName\n",
    "FROM employees e\n",
    "JOIN departments d ON e.DeptId = d.DeptId\n",
    "JOIN projects p ON e.DeptId = p.DeptId\n",
    "''').show()"
   ]
  },
  {
   "cell_type": "raw",
   "id": "d2c683e9-b816-4753-996f-b23f2f06e1f6",
   "metadata": {},
   "source": [
    "Tugas 5: Tuliskan query SQL untuk menemukan rata-rata gaji per departemen dan rangking setiap karyawan dalam departemen berdasarkan gaji"
   ]
  },
  {
   "cell_type": "code",
   "execution_count": 15,
   "id": "281c8f65-bc40-4190-9608-0670626ee394",
   "metadata": {},
   "outputs": [
    {
     "name": "stdout",
     "output_type": "stream",
     "text": [
      "+--------+------+---------+------+-----------------+-------------+\n",
      "|    Name|DeptId| DeptName|Salary|    AvgSalaryDept|RankDalamDept|\n",
      "+--------+------+---------+------+-----------------+-------------+\n",
      "|   Bilyn|     1|       HR| 11300|8733.333333333334|            1|\n",
      "|    oshy|     1|       HR|  9900|8733.333333333334|            2|\n",
      "|   Erlyn|     1|       HR|  5000|8733.333333333334|            3|\n",
      "|Abimanyu|     2|Marketing|  6300|           4600.0|            1|\n",
      "|   Priyo|     2|Marketing|  2900|           4600.0|            2|\n",
      "+--------+------+---------+------+-----------------+-------------+\n",
      "\n"
     ]
    }
   ],
   "source": [
    "spark.sql('''\n",
    "SELECT \n",
    "    e.Name,\n",
    "    e.DeptId,\n",
    "    d.DeptName,\n",
    "    e.Salary,\n",
    "    AVG(e.Salary) OVER (PARTITION BY e.DeptId) AS AvgSalaryDept,\n",
    "    DENSE_RANK() OVER (PARTITION BY e.DeptId ORDER BY e.Salary DESC) AS RankDalamDept\n",
    "FROM employees e\n",
    "JOIN departments d ON e.DeptId = d.DeptId\n",
    "ORDER BY e.DeptId, RankDalamDept\n",
    "''').show()"
   ]
  },
  {
   "cell_type": "raw",
   "id": "059cd6d3-7a6f-47b6-942f-23c77c77632c",
   "metadata": {},
   "source": [
    "Tugas 6: Gunakan window functions untuk menentukan tren gaji berdasarkan usia di setiap departemen"
   ]
  },
  {
   "cell_type": "code",
   "execution_count": 17,
   "id": "d00ec9fd-c7c1-4670-9c53-5c64be3b324e",
   "metadata": {},
   "outputs": [
    {
     "name": "stderr",
     "output_type": "stream",
     "text": [
      "[Stage 83:====>             (2 + 6) / 8][Stage 84:==>               (1 + 2) / 8]"
     ]
    },
    {
     "name": "stdout",
     "output_type": "stream",
     "text": [
      "+--------+---+---------+------+-----------------+----------+\n",
      "|    Name|Age| DeptName|Salary|   AvgSalaryByAge|SalaryRank|\n",
      "+--------+---+---------+------+-----------------+----------+\n",
      "|   Erlyn| 19|       HR|  5000|           5000.0|         3|\n",
      "|    oshy| 21|       HR|  9900|           7450.0|         2|\n",
      "|   Bilyn| 28|       HR| 11300|8733.333333333334|         1|\n",
      "|Abimanyu| 20|Marketing|  6300|           6300.0|         1|\n",
      "|   Priyo| 25|Marketing|  2900|           4600.0|         2|\n",
      "+--------+---+---------+------+-----------------+----------+\n",
      "\n"
     ]
    },
    {
     "name": "stderr",
     "output_type": "stream",
     "text": [
      "                                                                                "
     ]
    }
   ],
   "source": [
    "spark.sql('''\n",
    "SELECT \n",
    "    e.Name, \n",
    "    e.Age, \n",
    "    d.DeptName, \n",
    "    e.Salary,\n",
    "    AVG(e.Salary) OVER (PARTITION BY e.DeptId ORDER BY e.Age) AS AvgSalaryByAge,\n",
    "    DENSE_RANK() OVER (PARTITION BY e.DeptId ORDER BY e.Salary DESC) AS SalaryRank\n",
    "FROM employees e\n",
    "JOIN departments d ON e.DeptId = d.DeptId\n",
    "ORDER BY e.DeptId, e.Age\n",
    "''').show()"
   ]
  },
  {
   "cell_type": "markdown",
   "id": "0809abf4-a175-4aad-b23d-bb0096cbbb66",
   "metadata": {},
   "source": [
    "Advanced Data Analysis and Visualization"
   ]
  },
  {
   "cell_type": "raw",
   "id": "f982993e-4ded-4931-92fb-74c09878519c",
   "metadata": {},
   "source": [
    "Tugas 7: Lakukan analisis tren gaji menggunakan Spark SQL dan visualisasikan hasilnya."
   ]
  },
  {
   "cell_type": "code",
   "execution_count": 18,
   "id": "d5124f8e-c403-493e-ac4a-fec15afe7d2e",
   "metadata": {},
   "outputs": [
    {
     "data": {
      "image/png": "[encoded data removed]",
      "text/plain": [
       "<Figure size 1000x500 with 1 Axes>"
      ]
     },
     "metadata": {},
     "output_type": "display_data"
    }
   ],
   "source": [
    "import matplotlib.pyplot as plt\n",
    "import pandas as pd\n",
    "salary_trends = spark.sql('''\n",
    "SELECT Age, AVG(Salary) AS AverageSalary\n",
    "FROM employees\n",
    "GROUP BY Age\n",
    "ORDER BY Age\n",
    "''').toPandas()\n",
    "plt.figure(figsize=(10, 5))\n",
    "plt.plot(salary_trends['Age'], salary_trends['AverageSalary'], marker='o')\n",
    "plt.xlabel('Age')\n",
    "plt.ylabel('Average Salary')\n",
    "plt.title('Salary Trends by Age')\n",
    "plt.grid(True)\n",
    "plt.show()"
   ]
  },
  {
   "cell_type": "code",
   "execution_count": null,
   "id": "85f2f91f-11aa-4762-bd29-fd47190aabf7",
   "metadata": {},
   "outputs": [],
   "source": []
  }
 ],
 "metadata": {
  "kernelspec": {
   "display_name": "Python 3 (ipykernel)",
   "language": "python",
   "name": "python3"
  },
  "language_info": {
   "codemirror_mode": {
    "name": "ipython",
    "version": 3
   },
   "file_extension": ".py",
   "mimetype": "text/x-python",
   "name": "python",
   "nbconvert_exporter": "python",
   "pygments_lexer": "ipython3",
   "version": "3.13.9"
  }
 },
 "nbformat": 4,
 "nbformat_minor": 5
}
